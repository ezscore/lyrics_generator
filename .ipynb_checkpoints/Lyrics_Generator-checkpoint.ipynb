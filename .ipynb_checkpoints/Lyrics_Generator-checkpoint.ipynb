{
 "cells": [
  {
   "cell_type": "code",
   "execution_count": 8,
   "metadata": {},
   "outputs": [],
   "source": [
    "import requests\n",
    "from bs4 import BeautifulSoup\n",
    "import config"
   ]
  },
  {
   "cell_type": "code",
   "execution_count": 9,
   "metadata": {},
   "outputs": [
    {
     "name": "stdout",
     "output_type": "stream",
     "text": [
      "hOoqs6bLk9vYNwe0NumOQf-s0MfxsS-YbRkPeyAJ8pL_et56h3Kq15wWE1uqL-YG\n"
     ]
    }
   ],
   "source": [
    "print(config.api_key)"
   ]
  },
  {
   "cell_type": "code",
   "execution_count": 73,
   "metadata": {},
   "outputs": [],
   "source": [
    "api_key = 'hOoqs6bLk9vYNwe0NumOQf-s0MfxsS-YbRkPeyAJ8pL_et56h3Kq15wWE1uqL-YG'"
   ]
  },
  {
   "cell_type": "code",
   "execution_count": 218,
   "metadata": {},
   "outputs": [],
   "source": [
    "def request_song_info(song_title, artist_name):\n",
    "    base_url = 'https://api.genius.com'\n",
    "    headers = {'Authorization': 'Bearer ' + 'INSERT YOUR TOKEN HERE'}\n",
    "    search_url = base_url + '/search'\n",
    "    data = {'q': song_title + ' ' + artist_name}\n",
    "    response = requests.get(search_url, data=data, headers=headers)\n",
    "\n",
    "    return response\n",
    "\n",
    "def get_json(path, params=None, headers=None):\n",
    "    '''Send request and get response in json format.'''\n",
    "    base = \"https://api.genius.com\"\n",
    "    # Generate request URL\n",
    "    requrl = '/'.join([base, path])\n",
    "    token = \"Bearer {}\".format(api_key)\n",
    "    if headers:\n",
    "        headers['Authorization'] = token\n",
    "    else:\n",
    "        headers = {\"Authorization\": token}\n",
    "\n",
    "    # Get response object from querying genius api\n",
    "    response = requests.get(url=requrl, params=params, headers=headers)\n",
    "    response.raise_for_status()\n",
    "    return response.json()\n",
    "\n",
    "def request_artist(artist_name):\n",
    "    base_url = 'https://api.genius.com'\n",
    "    headers = {'Authorization': 'Bearer ' + api_key}\n",
    "    search_url = base_url + '/search'\n",
    "    data = {'q':artist_name}\n",
    "    response = requests.get(search_url, data=data, headers=headers)\n",
    "\n",
    "    return response\n",
    "\n",
    "def get_artist_id(response):\n",
    "    artist_id = response.json()['response']['hits'][0]['result']['primary_artist']['id']\n",
    "    \n",
    "#     base_url = 'https://api.genius.com'\n",
    "#     headers = {'Authorization': 'Bearer ' + api_key}\n",
    "#     search_url = base_url + '/artists/' + '{}'.format(artist_id)\n",
    "    \n",
    "#     response = requests.get(search_url, headers=headers)\n",
    "    return artist_id\n",
    "\n",
    "def get_song_id(artist_id):\n",
    "    '''Get all the song id from an artist.'''\n",
    "    current_page = 1\n",
    "    next_page = True\n",
    "    songs = [] # to store final song ids\n",
    "    titles = [] #to store final song titles\n",
    "\n",
    "    while next_page:\n",
    "        path = \"artists/{}/songs/\".format(artist_id)\n",
    "        params = {'page': current_page} # the current page\n",
    "        data = get_json(path=path, params=params) # get json of songs\n",
    "\n",
    "        page_songs = data['response']['songs']\n",
    "        if page_songs:\n",
    "            # Add all the songs of current page\n",
    "            songs += page_songs\n",
    "            # Increment current_page value for next loop\n",
    "            current_page += 1\n",
    "            print(\"Page {} finished scraping\".format(current_page))\n",
    "            # If you don't wanna wait too long to scrape, un-comment this\n",
    "            # if current_page == 2:\n",
    "            #     break\n",
    "\n",
    "        else:\n",
    "            # If page_songs is empty, quit\n",
    "            next_page = False\n",
    "    return songs"
   ]
  },
  {
   "cell_type": "code",
   "execution_count": 223,
   "metadata": {},
   "outputs": [],
   "source": [
    "uzi = request_artist('nav')"
   ]
  },
  {
   "cell_type": "code",
   "execution_count": 239,
   "metadata": {},
   "outputs": [
    {
     "name": "stdout",
     "output_type": "stream",
     "text": [
      "<Response [200]>\n"
     ]
    }
   ],
   "source": [
    "print(uzi)"
   ]
  },
  {
   "cell_type": "code",
   "execution_count": 224,
   "metadata": {},
   "outputs": [],
   "source": [
    "artist_id = get_artist_id(uzi)"
   ]
  },
  {
   "cell_type": "code",
   "execution_count": 225,
   "metadata": {},
   "outputs": [
    {
     "name": "stdout",
     "output_type": "stream",
     "text": [
      "Page 2 finished scraping\n",
      "Page 3 finished scraping\n",
      "Page 4 finished scraping\n",
      "Page 5 finished scraping\n",
      "Page 6 finished scraping\n",
      "Page 7 finished scraping\n",
      "Page 8 finished scraping\n",
      "Page 9 finished scraping\n",
      "Page 10 finished scraping\n",
      "Page 11 finished scraping\n",
      "Page 12 finished scraping\n"
     ]
    }
   ],
   "source": [
    "songs = get_song_id(artist_id)\n",
    " # Get all the song ids, excluding not-primary-artist songs.\n",
    "songs = [song[\"id\"] for song in songs\n",
    "        if song[\"primary_artist\"][\"id\"] == artist_id]"
   ]
  },
  {
   "cell_type": "code",
   "execution_count": 227,
   "metadata": {},
   "outputs": [],
   "source": [
    "def connect_lyrics(song_id):\n",
    "    '''Constructs the path of song lyrics.'''\n",
    "    url = \"songs/{}\".format(song_id)\n",
    "    data = get_json(url)\n",
    "    # Gets the path of song lyrics\n",
    "    path = data['response']['song']['path']\n",
    "    return path\n",
    "\n",
    "def retrieve_lyrics(song_id):\n",
    "    '''Retrieves lyrics from html page.'''\n",
    "    s_dict = {}\n",
    "    path = connect_lyrics(song_id)\n",
    "    URL = \"http://genius.com\" + path\n",
    "    page = requests.get(URL)\n",
    "\n",
    "    # Extract the page's HTML as a string\n",
    "    html = BeautifulSoup(page.text, \"html.parser\")\n",
    "\n",
    "    # Scrape the song lyrics from the HTML\n",
    "    lyrics = html.find(\"div\", class_=\"lyrics\").get_text()\n",
    "    title = html.find('h1',class_='header_with_cover_art-primary_info-title').get_text()\n",
    "    \n",
    "    s_dict[title] = lyrics\n",
    "    return s_dict"
   ]
  },
  {
   "cell_type": "code",
   "execution_count": 237,
   "metadata": {},
   "outputs": [],
   "source": [
    "song_lyrics = retrieve_lyrics(songs[8])"
   ]
  },
  {
   "cell_type": "code",
   "execution_count": 238,
   "metadata": {},
   "outputs": [
    {
     "name": "stdout",
     "output_type": "stream",
     "text": [
      "{'Boy Back': \"\\n\\n[Intro]\\nMustard on the beat, ho\\n\\n[Chorus]\\nGot rackity-rack-rack-racks in my knapity-sack-sack-sack (Racks)\\nEver since Tap-Tap-Tap, I feel like\\u2005the\\u2005brown boy back-back-back\\u2005(I'm back)\\nPrada shoes with the strap,\\u2005in every color, I'm proud of that (Proud of that)\\nAll they see is success but they don't know where I started at\\nI can't take no days off, I got money I gotta get (No)\\nHit the gas and I take off, pipes be cracklin' when I shift (Skrrt)\\nIt's clear as you can see, got a big bankroll on me\\nGot a coupe, got power seats three months before release\\n\\n[Verse]\\nRackin' up Krispy Kreme\\nEvery day I wear crispy tee\\nI know you ain't gettin' no cheese\\nYour shoe tongue ain't got no C's\\nAll my diamonds cold, on freeze\\nGot designer A to Z\\nI know B's and I know C's\\nMake your bitch fall in love with a G\\nNow I don't wanna wear no J's\\nPointers in the Cartiers on my face\\nStackin' up for my future, came up livin' day to day\\nShould I buy a new watch? I just made a hundred racks today\\nGucci my tube socks, I got a different pair for every day\\nI can't get no sleep, I got some habits I gotta kick\\nI been drippin' all week, minimum three thousand on my 'fit\\nWhen you work for a boss like me, there's lots of advantages\\nIn my wildest dreams, I don't think that I could imagine this\\n\\n[Chorus]\\nGot rackity-rack-rack-racks in my knapity-sack-sack-sack (Racks)\\nEver since Tap-Tap-Tap, I feel like the brown boy back-back-back (I'm back)\\nPrada shoes with the strap, in every color, I'm proud of that (Proud of that)\\nAll they see is success but they don't know where I started at\\nI can't take no days off, I got money I gotta get (No)\\nHit the gas and I take off, pipes be cracklin' when I shift (Skrrt)\\nIt's clear as you can see, got a big bankroll on me\\nGot a coupe, got power seats three months before release\\n\\n\"}\n"
     ]
    }
   ],
   "source": [
    "print(song_lyrics)"
   ]
  },
  {
   "cell_type": "code",
   "execution_count": null,
   "metadata": {},
   "outputs": [],
   "source": []
  }
 ],
 "metadata": {
  "kernelspec": {
   "display_name": "Python 3",
   "language": "python",
   "name": "python3"
  },
  "language_info": {
   "codemirror_mode": {
    "name": "ipython",
    "version": 3
   },
   "file_extension": ".py",
   "mimetype": "text/x-python",
   "name": "python",
   "nbconvert_exporter": "python",
   "pygments_lexer": "ipython3",
   "version": "3.6.9"
  },
  "toc": {
   "base_numbering": 1,
   "nav_menu": {},
   "number_sections": true,
   "sideBar": true,
   "skip_h1_title": false,
   "title_cell": "Table of Contents",
   "title_sidebar": "Contents",
   "toc_cell": false,
   "toc_position": {},
   "toc_section_display": true,
   "toc_window_display": false
  },
  "varInspector": {
   "cols": {
    "lenName": 16,
    "lenType": 16,
    "lenVar": 40
   },
   "kernels_config": {
    "python": {
     "delete_cmd_postfix": "",
     "delete_cmd_prefix": "del ",
     "library": "var_list.py",
     "varRefreshCmd": "print(var_dic_list())"
    },
    "r": {
     "delete_cmd_postfix": ") ",
     "delete_cmd_prefix": "rm(",
     "library": "var_list.r",
     "varRefreshCmd": "cat(var_dic_list()) "
    }
   },
   "types_to_exclude": [
    "module",
    "function",
    "builtin_function_or_method",
    "instance",
    "_Feature"
   ],
   "window_display": false
  }
 },
 "nbformat": 4,
 "nbformat_minor": 2
}
