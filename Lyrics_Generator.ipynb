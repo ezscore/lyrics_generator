{
 "cells": [
  {
   "cell_type": "code",
   "execution_count": 1,
   "metadata": {},
   "outputs": [],
   "source": [
    "import requests\n",
    "from bs4 import BeautifulSoup\n",
    "import config\n",
    "import functions"
   ]
  },
  {
   "cell_type": "code",
   "execution_count": 3,
   "metadata": {},
   "outputs": [],
   "source": [
    "uzi = functions.request_artist('nav')"
   ]
  },
  {
   "cell_type": "code",
   "execution_count": 4,
   "metadata": {},
   "outputs": [
    {
     "name": "stdout",
     "output_type": "stream",
     "text": [
      "<Response [200]>\n"
     ]
    }
   ],
   "source": [
    "print(uzi)"
   ]
  },
  {
   "cell_type": "code",
   "execution_count": 5,
   "metadata": {},
   "outputs": [],
   "source": [
    "artist_id = functions.get_artist_id(uzi)"
   ]
  },
  {
   "cell_type": "code",
   "execution_count": 7,
   "metadata": {},
   "outputs": [
    {
     "name": "stdout",
     "output_type": "stream",
     "text": [
      "Page 2 finished scraping\n",
      "Page 3 finished scraping\n",
      "Page 4 finished scraping\n",
      "Page 5 finished scraping\n",
      "Page 6 finished scraping\n",
      "Page 7 finished scraping\n",
      "Page 8 finished scraping\n",
      "Page 9 finished scraping\n",
      "Page 10 finished scraping\n",
      "Page 11 finished scraping\n",
      "Page 12 finished scraping\n"
     ]
    }
   ],
   "source": [
    "songs = functions.get_song_id(artist_id)\n",
    " # Get all the song ids, excluding not-primary-artist songs.\n",
    "songs = [song[\"id\"] for song in songs\n",
    "        if song[\"primary_artist\"][\"id\"] == artist_id]"
   ]
  },
  {
   "cell_type": "code",
   "execution_count": 8,
   "metadata": {},
   "outputs": [],
   "source": [
    "song_lyrics = functions.retrieve_lyrics(songs[8])"
   ]
  },
  {
   "cell_type": "code",
   "execution_count": 9,
   "metadata": {},
   "outputs": [
    {
     "name": "stdout",
     "output_type": "stream",
     "text": [
      "{'Boy Back': \"\\n\\n[Intro]\\nMustard on the beat, ho\\n\\n[Chorus]\\nGot rackity-rack-rack-racks in my knapity-sack-sack-sack (Racks)\\nEver since Tap-Tap-Tap, I feel like\\u2005the\\u2005brown boy back-back-back\\u2005(I'm back)\\nPrada shoes with the strap,\\u2005in every color, I'm proud of that (Proud of that)\\nAll they see is success but they don't know where I started at\\nI can't take no days off, I got money I gotta get (No)\\nHit the gas and I take off, pipes be cracklin' when I shift (Skrrt)\\nIt's clear as you can see, got a big bankroll on me\\nGot a coupe, got power seats three months before release\\n\\n[Verse]\\nRackin' up Krispy Kreme\\nEvery day I wear crispy tee\\nI know you ain't gettin' no cheese\\nYour shoe tongue ain't got no C's\\nAll my diamonds cold, on freeze\\nGot designer A to Z\\nI know B's and I know C's\\nMake your bitch fall in love with a G\\nNow I don't wanna wear no J's\\nPointers in the Cartiers on my face\\nStackin' up for my future, came up livin' day to day\\nShould I buy a new watch? I just made a hundred racks today\\nGucci my tube socks, I got a different pair for every day\\nI can't get no sleep, I got some habits I gotta kick\\nI been drippin' all week, minimum three thousand on my 'fit\\nWhen you work for a boss like me, there's lots of advantages\\nIn my wildest dreams, I don't think that I could imagine this\\n\\n[Chorus]\\nGot rackity-rack-rack-racks in my knapity-sack-sack-sack (Racks)\\nEver since Tap-Tap-Tap, I feel like the brown boy back-back-back (I'm back)\\nPrada shoes with the strap, in every color, I'm proud of that (Proud of that)\\nAll they see is success but they don't know where I started at\\nI can't take no days off, I got money I gotta get (No)\\nHit the gas and I take off, pipes be cracklin' when I shift (Skrrt)\\nIt's clear as you can see, got a big bankroll on me\\nGot a coupe, got power seats three months before release\\n\\n\"}\n"
     ]
    }
   ],
   "source": [
    "print(song_lyrics)"
   ]
  },
  {
   "cell_type": "code",
   "execution_count": null,
   "metadata": {},
   "outputs": [],
   "source": []
  }
 ],
 "metadata": {
  "kernelspec": {
   "display_name": "Python 3",
   "language": "python",
   "name": "python3"
  },
  "language_info": {
   "codemirror_mode": {
    "name": "ipython",
    "version": 3
   },
   "file_extension": ".py",
   "mimetype": "text/x-python",
   "name": "python",
   "nbconvert_exporter": "python",
   "pygments_lexer": "ipython3",
   "version": "3.6.9"
  },
  "toc": {
   "base_numbering": 1,
   "nav_menu": {},
   "number_sections": true,
   "sideBar": true,
   "skip_h1_title": false,
   "title_cell": "Table of Contents",
   "title_sidebar": "Contents",
   "toc_cell": false,
   "toc_position": {},
   "toc_section_display": true,
   "toc_window_display": false
  },
  "varInspector": {
   "cols": {
    "lenName": 16,
    "lenType": 16,
    "lenVar": 40
   },
   "kernels_config": {
    "python": {
     "delete_cmd_postfix": "",
     "delete_cmd_prefix": "del ",
     "library": "var_list.py",
     "varRefreshCmd": "print(var_dic_list())"
    },
    "r": {
     "delete_cmd_postfix": ") ",
     "delete_cmd_prefix": "rm(",
     "library": "var_list.r",
     "varRefreshCmd": "cat(var_dic_list()) "
    }
   },
   "types_to_exclude": [
    "module",
    "function",
    "builtin_function_or_method",
    "instance",
    "_Feature"
   ],
   "window_display": false
  }
 },
 "nbformat": 4,
 "nbformat_minor": 2
}
